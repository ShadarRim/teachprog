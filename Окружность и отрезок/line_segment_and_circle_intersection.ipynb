{
  "nbformat": 4,
  "nbformat_minor": 0,
  "metadata": {
    "colab": {
      "name": "line segment and circle intersection.ipynb",
      "provenance": []
    },
    "kernelspec": {
      "name": "python3",
      "display_name": "Python 3"
    }
  },
  "cells": [
    {
      "cell_type": "markdown",
      "metadata": {
        "id": "h83TooN0x0DR",
        "colab_type": "text"
      },
      "source": [
        "Решение данной задачи - не оптимально, да и не решение, если честно. Оно служит иллюстрацией того, что верное математическое решение далеко не всегда может быть легко представлено в компьютере. \n",
        "\n",
        "Удачи на пути становления инженерами в области ИТ!\n",
        "\n",
        "Задача впервые предложена мне для решения доцентом НИЯУ МИФИ Рогановым Е.А. за что ему большое спасибо!"
      ]
    },
    {
      "cell_type": "markdown",
      "metadata": {
        "id": "Zn_NRghNf4Y2",
        "colab_type": "text"
      },
      "source": [
        "## Пересечение отрезка и единичной окружности с центром в 0\n",
        "Ниже представлен ряд типовых ситуций, связанных с пересечением окружности и отрезка, он не учитвает все случаи, которые надо помнить при вычислении, тем не менее позволяет \"представить\" задачу.\n",
        "\n",
        "\n",
        "![Замещающий текст](https://mathworld.wolfram.com/images/eps-gif/CircleLineIntersection_700.gif)"
      ]
    },
    {
      "cell_type": "markdown",
      "metadata": {
        "id": "-Y5UjbEHgsRA",
        "colab_type": "text"
      },
      "source": [
        "### Как математически задаётся отрезок?\n",
        "\n",
        "$ x = x_1 + (x_2-x_1)*t = x_1 + d_x*t $ (1)\n",
        "\n",
        "$ y = y_1 + (y_2-y_1)*t = y_1 + d_y*t $ (2)\n",
        "\n",
        "$ t \\in [0,1] $\n"
      ]
    },
    {
      "cell_type": "markdown",
      "metadata": {
        "id": "cqHNnNsxiLbN",
        "colab_type": "text"
      },
      "source": [
        "### Как математически задаётся окружность?\n",
        "\n",
        "$ (x-x_c)^2 + (y-y_c)^2 - R^2 = 0 $ (3)\n",
        "\n",
        "В нашем случае рассматривается единичная окружность с центром в нуле.\n",
        "\n",
        "$ x^2 + y^2 - 1 = 0 $ (4)"
      ]
    },
    {
      "cell_type": "markdown",
      "metadata": {
        "id": "5SpHK8I_jE-f",
        "colab_type": "text"
      },
      "source": [
        "### Подставим (1) и (2) в (4)\n",
        "\n",
        "$ (x_1 + d_x*t)^2 + (y_1 + d_y*t)^2 - 1 = 0 $\n",
        "\n",
        "$ t^2*(d_x^2 + d_y^2) + 2t*(x_1*d_x+y_1*d_y) + x_1^2 + y_1^2 - 1 = 0,  t \\in [0,1] $ (5)\n",
        "\n",
        "Получили параболу. Для налиая пересечения необходимо, чтобы у ней было как минимум одно решение в указанном интервале. \n"
      ]
    },
    {
      "cell_type": "markdown",
      "metadata": {
        "id": "vXZXkZnWk4Iv",
        "colab_type": "text"
      },
      "source": [
        "### Как быть с параболой?\n",
        "\n",
        "Упростим запись выражение (5)\n",
        "\n",
        "$ f(t) = at^2 + bt + c = 0 $\n",
        "\n",
        "Так как $ a = d_x^2 + d_y^2 >= 0 $, \n",
        "то перед нами парабола ветвями вверх. При этом важно не забыть отдельно рассмотреть возможность равенства коэффициента при старшей степени нулю.\n",
        "\n",
        "Теперь всё зависит от положения вершины. Вершина может быть левее нуля или правее единицы или между ними. \n",
        "\n",
        "Положение вершины рассчитывается по формлуле $ t_в = -b/2a $\n",
        "\n",
        "Если она левее или правее границ, то наличие или отсутствие пересечений определяется знаками значений в $ t=0, t=1 $, они вычисляют по формулам $ f(0) = c, f(1) = a+b+c $. Если их произведение отрицательноЮ, значит на отрезке от 0 до 1 функция меняет знак и корень есть. Иначе корня нет.\n",
        "\n",
        "Если вершина находится внутри границ, то необходимо проверяеть наличие корней, предварительно убедившись, что значения в нуле и едиинце больше нуляю\n"
      ]
    },
    {
      "cell_type": "markdown",
      "metadata": {
        "id": "9LulsIgGm-uq",
        "colab_type": "text"
      },
      "source": [
        "### Код решения"
      ]
    },
    {
      "cell_type": "code",
      "metadata": {
        "id": "3Tq55ULsdQz1",
        "colab_type": "code",
        "colab": {}
      },
      "source": [
        "def is_intersect(x1, y1, x2, y2):\n",
        "  dx = x2 - x1\n",
        "  dy = y2 - y1\n",
        "\n",
        "  a = dx**2 + dy**2\n",
        "  b = 2*(x1*dx + y1*dy)\n",
        "  c = x1*x1 + y1*y1 - 1\n",
        "\n",
        "  print(a,b,c)\n",
        "  print(a+b+c, c, b*b-4*a*c)\n",
        "\n",
        "  if not a:\n",
        "    return (c==0)\n",
        "  if (b > 0) or (-b > 2*a):\n",
        "    print('here')\n",
        "    return (a+b+c)*c <= 0\n",
        "  if (-b <= 2*a):\n",
        "    return (c>=0 or a+b+c>=0) and ((b*b-4*a*c) >= 0)"
      ],
      "execution_count": 56,
      "outputs": []
    },
    {
      "cell_type": "markdown",
      "metadata": {
        "id": "MlnrvbZcnGTJ",
        "colab_type": "text"
      },
      "source": [
        "## Тесты"
      ]
    },
    {
      "cell_type": "code",
      "metadata": {
        "id": "cBo19GyWeUdX",
        "colab_type": "code",
        "colab": {
          "base_uri": "https://localhost:8080/",
          "height": 34
        },
        "outputId": "2bc7bf4e-ab31-49f9-f638-a1e6402c647d"
      },
      "source": [
        "print('Должно пересекать?', True, 'Правильно ли работает?', is_intersect(0.5, 0.5, 2, 3) == True)"
      ],
      "execution_count": 39,
      "outputs": [
        {
          "output_type": "stream",
          "text": [
            "Должно пересекать? True Правильно ли работает? True\n"
          ],
          "name": "stdout"
        }
      ]
    },
    {
      "cell_type": "code",
      "metadata": {
        "id": "IEP0XsLkkiW2",
        "colab_type": "code",
        "colab": {
          "base_uri": "https://localhost:8080/",
          "height": 34
        },
        "outputId": "b92f7a88-b196-41ee-ba95-7386432fd6d3"
      },
      "source": [
        "print('Должно пересекать?', True, 'Правильно ли работает?', is_intersect(-0.5, -0.5, 2, 3) == True)\n"
      ],
      "execution_count": 40,
      "outputs": [
        {
          "output_type": "stream",
          "text": [
            "Должно пересекать? True Правильно ли работает? True\n"
          ],
          "name": "stdout"
        }
      ]
    },
    {
      "cell_type": "code",
      "metadata": {
        "id": "GCtKldtFkkGF",
        "colab_type": "code",
        "colab": {
          "base_uri": "https://localhost:8080/",
          "height": 34
        },
        "outputId": "0e55946e-4854-4c25-a104-4555d5bac906"
      },
      "source": [
        "print('Должно пересекать?', True, 'Правильно ли работает?', is_intersect(-0.5, -0.5, -2, -3) == True)\n"
      ],
      "execution_count": 41,
      "outputs": [
        {
          "output_type": "stream",
          "text": [
            "Должно пересекать? True Правильно ли работает? True\n"
          ],
          "name": "stdout"
        }
      ]
    },
    {
      "cell_type": "code",
      "metadata": {
        "id": "BSxmS5IikmU_",
        "colab_type": "code",
        "colab": {
          "base_uri": "https://localhost:8080/",
          "height": 34
        },
        "outputId": "831315be-a88d-4544-8ca5-9c31a910a11c"
      },
      "source": [
        "print('Должно пересекать?', True, 'Правильно ли работает?', is_intersect(0.75, -0.75, 2, 3) == True)\n"
      ],
      "execution_count": 42,
      "outputs": [
        {
          "output_type": "stream",
          "text": [
            "Должно пересекать? True Правильно ли работает? True\n"
          ],
          "name": "stdout"
        }
      ]
    },
    {
      "cell_type": "code",
      "metadata": {
        "id": "jtGtAmPgknVn",
        "colab_type": "code",
        "colab": {
          "base_uri": "https://localhost:8080/",
          "height": 34
        },
        "outputId": "fbd6f5a6-7d30-40a7-cf64-c14037c5f8f8"
      },
      "source": [
        "print('Должно пересекать?', False, 'Правильно ли работает?', is_intersect(0.75, 0.75, 2, 3) == False)\n"
      ],
      "execution_count": 43,
      "outputs": [
        {
          "output_type": "stream",
          "text": [
            "Должно пересекать? False Правильно ли работает? True\n"
          ],
          "name": "stdout"
        }
      ]
    },
    {
      "cell_type": "code",
      "metadata": {
        "id": "TNRDHIfTkohT",
        "colab_type": "code",
        "colab": {
          "base_uri": "https://localhost:8080/",
          "height": 34
        },
        "outputId": "ffc540e6-ed31-4cfe-8fd0-c820709a4433"
      },
      "source": [
        "print('Должно пересекать?', False, 'Правильно ли работает?', is_intersect(0.5,0.5,-0.5,-0.5) == False)\n"
      ],
      "execution_count": 44,
      "outputs": [
        {
          "output_type": "stream",
          "text": [
            "Должно пересекать? False Правильно ли работает? True\n"
          ],
          "name": "stdout"
        }
      ]
    },
    {
      "cell_type": "code",
      "metadata": {
        "id": "gLsINYQGkpX8",
        "colab_type": "code",
        "colab": {
          "base_uri": "https://localhost:8080/",
          "height": 34
        },
        "outputId": "867348cd-d833-4149-9556-f00577c88a13"
      },
      "source": [
        "print('Должно пересекать?', False, 'Правильно ли работает?', is_intersect(0,0,0,0) == False)\n"
      ],
      "execution_count": 45,
      "outputs": [
        {
          "output_type": "stream",
          "text": [
            "Должно пересекать? False Правильно ли работает? True\n"
          ],
          "name": "stdout"
        }
      ]
    },
    {
      "cell_type": "code",
      "metadata": {
        "id": "wyGaPxsJkqod",
        "colab_type": "code",
        "colab": {
          "base_uri": "https://localhost:8080/",
          "height": 34
        },
        "outputId": "bb709dbc-a287-4c60-a08e-3be7d9df3a92"
      },
      "source": [
        "print('Должно пересекать?', True, 'Правильно ли работает?', is_intersect(0,1,0,1) == True)\n"
      ],
      "execution_count": 46,
      "outputs": [
        {
          "output_type": "stream",
          "text": [
            "Должно пересекать? True Правильно ли работает? True\n"
          ],
          "name": "stdout"
        }
      ]
    },
    {
      "cell_type": "code",
      "metadata": {
        "id": "WGjrKWCnksKB",
        "colab_type": "code",
        "colab": {
          "base_uri": "https://localhost:8080/",
          "height": 34
        },
        "outputId": "ace404d3-b662-4190-b755-6dae4d5c4dff"
      },
      "source": [
        "print('Должно пересекать?', False, 'Правильно ли работает?', is_intersect(5,5,5,5) == False)\n"
      ],
      "execution_count": 47,
      "outputs": [
        {
          "output_type": "stream",
          "text": [
            "Должно пересекать? False Правильно ли работает? True\n"
          ],
          "name": "stdout"
        }
      ]
    },
    {
      "cell_type": "code",
      "metadata": {
        "id": "yPoYScQ5ktNr",
        "colab_type": "code",
        "colab": {
          "base_uri": "https://localhost:8080/",
          "height": 34
        },
        "outputId": "65f1bb6d-8281-4a9c-823f-31025276fa95"
      },
      "source": [
        "print('Должно пересекать?', True, 'Правильно ли работает?', is_intersect(-0.2,-0.4,-1.2,-0.4) == True)\n"
      ],
      "execution_count": 48,
      "outputs": [
        {
          "output_type": "stream",
          "text": [
            "Должно пересекать? True Правильно ли работает? True\n"
          ],
          "name": "stdout"
        }
      ]
    },
    {
      "cell_type": "code",
      "metadata": {
        "id": "KjyuhYORkuYn",
        "colab_type": "code",
        "colab": {
          "base_uri": "https://localhost:8080/",
          "height": 34
        },
        "outputId": "6db456e6-9a9b-4040-b81a-cbc4e11c95d9"
      },
      "source": [
        "print('Должно пересекать?', True, 'Правильно ли работает?', is_intersect(1.0, 0.0, 1.1, 0.3) == True)\n"
      ],
      "execution_count": 49,
      "outputs": [
        {
          "output_type": "stream",
          "text": [
            "Должно пересекать? True Правильно ли работает? True\n"
          ],
          "name": "stdout"
        }
      ]
    },
    {
      "cell_type": "code",
      "metadata": {
        "id": "HimMQgkpkvMz",
        "colab_type": "code",
        "colab": {
          "base_uri": "https://localhost:8080/",
          "height": 85
        },
        "outputId": "3c8b735b-01a4-4b45-d13f-ab971b6cefbe"
      },
      "source": [
        "print('Должно пересекать?', True, 'Правильно ли работает?', is_intersect(1.1, 0.3, 1.0, 0.0) == True)\n"
      ],
      "execution_count": 57,
      "outputs": [
        {
          "output_type": "stream",
          "text": [
            "0.10000000000000002 -0.40000000000000024 0.30000000000000027\n",
            "5.551115123125783e-17 0.30000000000000027 0.04000000000000006\n",
            "here\n",
            "Должно пересекать? True Правильно ли работает? False\n"
          ],
          "name": "stdout"
        }
      ]
    },
    {
      "cell_type": "code",
      "metadata": {
        "id": "mEsTN_j4kwSF",
        "colab_type": "code",
        "colab": {
          "base_uri": "https://localhost:8080/",
          "height": 68
        },
        "outputId": "abdb64b1-78b3-4422-8945-863795078280"
      },
      "source": [
        "print('Должно пересекать?', True, 'Правильно ли работает?', is_intersect(0.4, 1.0, -1.5, 1.0) is True)"
      ],
      "execution_count": 58,
      "outputs": [
        {
          "output_type": "stream",
          "text": [
            "3.61 -1.52 0.16000000000000014\n",
            "2.25 0.16000000000000014 -1.7763568394002505e-15\n",
            "Должно пересекать? True Правильно ли работает? False\n"
          ],
          "name": "stdout"
        }
      ]
    },
    {
      "cell_type": "markdown",
      "metadata": {
        "id": "rFqg4Y9WnMjz",
        "colab_type": "text"
      },
      "source": [
        "## Выводы\n",
        "\n",
        "Работа с числами с плавающей запятой - крайне сложная задача, которой надо уделять отдельное время. В данном случае математически правильное решнеие не реализуется корректно в коде. \n",
        "\n",
        "Можно предложить другое решение. Какое?"
      ]
    }
  ]
}